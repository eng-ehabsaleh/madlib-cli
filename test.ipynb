{
 "cells": [
  {
   "cell_type": "code",
   "execution_count": 6,
   "metadata": {},
   "outputs": [
    {
     "name": "stdout",
     "output_type": "stream",
     "text": [
      "Make Me A Video Game!\n",
      "\n",
      "I the {Adjective} and {Adjective1} {A_First_Name} \n",
      "Make Me A Video Game!\n",
      "\n",
      "I the ehab and ehab ehab have ehabehab's ehab sister and plan to steal her ehab ehab!\n",
      "\n",
      "What are a ehab and backpacking ehab to do? Before you can help ehab, you'll have to collect the ehab ehab and ehab ehab that open up the ehab worlds connected to A ehab Lair. There are ehab ehab and ehab ehab in the game, along with hundreds of other goodies for you to find.\n"
     ]
    }
   ],
   "source": [
    "# print(\"Welcome to Madlib\")\n",
    "# print()\n",
    "\n",
    "def read_template():\n",
    "    with open(\"assets/dark_and_stormy_night_template.txt\") as file:\n",
    "        content = file.read().strip()\n",
    "        return content\n",
    "\n",
    "\n",
    "content = read_template()\n",
    "\n",
    "print(content[0:73])\n",
    "\n",
    "\n",
    "def merge():\n",
    "    Adjective = input(\">enter Adjective \")\n",
    "    Adjective1 = input(\">enter Adjective \")\n",
    "    A_First_Name = input(\">enter A First Name \")\n",
    "    Past_Tense_Verb = input(\">enter Past Tense Verb \")\n",
    "    A_First_Name1 = input(\">enter A_First_Name \")\n",
    "    Adjective2 = input(\">enter Adjective2 \")\n",
    "    Adjective3 = input(\">Adjective3 \")\n",
    "    Plural_Noun = input(\">Plural_Noun \")\n",
    "    Large_Animal = input(\">Large_Animal \")\n",
    "    Small_Animal = input(\">Small_Animal \")\n",
    "    A_Girl_Name = input(\">A_Girl_Name \")\n",
    "    Adjective4 = input(\">Adjective4 \")\n",
    "    Plural_Noun1 = input(\">Plural_Noun1 \")\n",
    "    Adjective5 = input(\">Adjective5 \")\n",
    "    Plural_Noun2 = input(\">Plural_Noun2\")\n",
    "    Number_from_1_to_50 = input(\">Number_1-50\")\n",
    "    First_Name_1 = input(\">First_Name_1\")\n",
    "    Number1 = input(\">Number1\")\n",
    "    Plural_Noun3 = input(\">Plural_Noun3\")\n",
    "    Number2 = input(\">Number2\")\n",
    "    Plural_Noun4 = input(\">Plural_Noun4\")\n",
    "    print(content.format(Adjective=Adjective,\n",
    "          Adjective1=Adjective1, A_First_Name=A_First_Name, Past_Tense_Verb=Past_Tense_Verb, A_First_Name1=A_First_Name1, Adjective2=Adjective2, Adjective3=Adjective3, Plural_Noun=Plural_Noun, Large_Animal=Large_Animal, Small_Animal=Small_Animal, A_Girl_Name=A_Girl_Name, Adjective4=Adjective4, Plural_Noun1=Plural_Noun1, Adjective5=Adjective5, Plural_Noun2=Plural_Noun2, Number_from_1_to_50=Number_from_1_to_50, First_Name_1=First_Name_1, Number1=Number1, Plural_Noun3=Plural_Noun3, Number2=Number2, Plural_Noun4=Plural_Noun4,).rstrip('\\n'))\n",
    "\n",
    "\n",
    "merge()"
   ]
  }
 ],
 "metadata": {
  "interpreter": {
   "hash": "8c58721c2db8602d3f470c89a52bef00f31eb7d8f06e96e09cd700daa3487ff7"
  },
  "kernelspec": {
   "display_name": "Python 3.9.5 64-bit ('.venv': poetry)",
   "name": "python3"
  },
  "language_info": {
   "codemirror_mode": {
    "name": "ipython",
    "version": 3
   },
   "file_extension": ".py",
   "mimetype": "text/x-python",
   "name": "python",
   "nbconvert_exporter": "python",
   "pygments_lexer": "ipython3",
   "version": "3.9.5"
  },
  "orig_nbformat": 4
 },
 "nbformat": 4,
 "nbformat_minor": 2
}
